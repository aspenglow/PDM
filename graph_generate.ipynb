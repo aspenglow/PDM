{
 "cells": [
  {
   "cell_type": "code",
   "execution_count": 1,
   "metadata": {},
   "outputs": [],
   "source": [
    "import networkx as nx\n",
    "import numpy as np\n",
    "import matplotlib.pyplot as plt\n",
    "import os\n",
    "import shutil\n",
    "from tqdm import tqdm"
   ]
  },
  {
   "cell_type": "code",
   "execution_count": 33,
   "metadata": {},
   "outputs": [
    {
     "name": "stderr",
     "output_type": "stream",
     "text": [
      "100%|██████████| 500/500 [01:42<00:00,  4.87it/s]\n"
     ]
    }
   ],
   "source": [
    "def generate_erdos_renyi_graph(save_dir='graphs/erdos_renyi', num = 500, n_range=[100,1000], p=0.1):\n",
    "    if os.path.exists(save_dir):\n",
    "        shutil.rmtree(save_dir)\n",
    "    os.makedirs(save_dir)\n",
    "    for i in tqdm(range(num)):\n",
    "        n = np.random.randint(n_range[0], n_range[1])\n",
    "        g = nx.random_graphs.erdos_renyi_graph(n,p)\n",
    "        if not nx.is_connected(g):\n",
    "            i -= 1\n",
    "            continue\n",
    "        nx.write_gpickle(g, os.path.join(save_dir, \"er\"+str(i+1)+\".pkl\"))\n",
    "\n",
    "generate_erdos_renyi_graph()"
   ]
  },
  {
   "cell_type": "code",
   "execution_count": 35,
   "metadata": {},
   "outputs": [
    {
     "name": "stderr",
     "output_type": "stream",
     "text": [
      "100%|██████████| 500/500 [02:02<00:00,  4.08it/s]\n"
     ]
    }
   ],
   "source": [
    "def generate_sbm_graph(save_dir='graphs/sbm', num_graphs=500, num_blocks=2, node_range=[50,500], p_in=0.2, p_betw=0.05):\n",
    "    if os.path.exists(save_dir):\n",
    "        shutil.rmtree(save_dir)\n",
    "    os.makedirs(save_dir)\n",
    "    for i in tqdm(range(num_graphs)):\n",
    "        probs = p_betw * np.ones((num_blocks, num_blocks))\n",
    "        sizes = []\n",
    "        for j in range(num_blocks):\n",
    "            sizes += [np.random.randint(node_range[0], node_range[1])]\n",
    "            probs[j,j] += (p_in - p_betw) \n",
    "        \n",
    "        g = nx.stochastic_block_model(sizes, probs)\n",
    "        if not nx.is_connected(g):\n",
    "            i -= 1\n",
    "            continue\n",
    "        nx.write_gpickle(g, os.path.join(save_dir, \"sbm\"+str(i+1)+\".pkl\"))\n",
    "\n",
    "generate_sbm_graph()"
   ]
  }
 ],
 "metadata": {
  "kernelspec": {
   "display_name": "pdm",
   "language": "python",
   "name": "python3"
  },
  "language_info": {
   "codemirror_mode": {
    "name": "ipython",
    "version": 3
   },
   "file_extension": ".py",
   "mimetype": "text/x-python",
   "name": "python",
   "nbconvert_exporter": "python",
   "pygments_lexer": "ipython3",
   "version": "3.10.9"
  },
  "orig_nbformat": 4
 },
 "nbformat": 4,
 "nbformat_minor": 2
}
